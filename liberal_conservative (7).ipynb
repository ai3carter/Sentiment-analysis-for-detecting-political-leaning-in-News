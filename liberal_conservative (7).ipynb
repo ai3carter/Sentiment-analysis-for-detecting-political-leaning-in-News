{
 "cells": [
  {
   "cell_type": "code",
   "execution_count": 1,
   "metadata": {},
   "outputs": [
    {
     "name": "stderr",
     "output_type": "stream",
     "text": [
      "Using TensorFlow backend.\n"
     ]
    }
   ],
   "source": [
    "# import libraries\n",
    "from sklearn import model_selection, preprocessing, linear_model, naive_bayes, metrics, svm\n",
    "from sklearn.feature_extraction.text import TfidfVectorizer, CountVectorizer\n",
    "from sklearn import decomposition, ensemble\n",
    "\n",
    "import pandas, xgboost, numpy, textblob, string\n",
    "from keras.preprocessing import text, sequence\n",
    "from keras import layers, models, optimizers"
   ]
  },
  {
   "cell_type": "code",
   "execution_count": 2,
   "metadata": {},
   "outputs": [
    {
     "data": {
      "text/html": [
       "<div>\n",
       "<style scoped>\n",
       "    .dataframe tbody tr th:only-of-type {\n",
       "        vertical-align: middle;\n",
       "    }\n",
       "\n",
       "    .dataframe tbody tr th {\n",
       "        vertical-align: top;\n",
       "    }\n",
       "\n",
       "    .dataframe thead th {\n",
       "        text-align: right;\n",
       "    }\n",
       "</style>\n",
       "<table border=\"1\" class=\"dataframe\">\n",
       "  <thead>\n",
       "    <tr style=\"text-align: right;\">\n",
       "      <th></th>\n",
       "      <th>political leaning</th>\n",
       "      <th>article</th>\n",
       "    </tr>\n",
       "  </thead>\n",
       "  <tbody>\n",
       "    <tr>\n",
       "      <th>0</th>\n",
       "      <td>liberal</td>\n",
       "      <td>Carrying a lethal weapon onto church property ...</td>\n",
       "    </tr>\n",
       "    <tr>\n",
       "      <th>1</th>\n",
       "      <td>liberal</td>\n",
       "      <td>There is a tiny bit of good news at the tail e...</td>\n",
       "    </tr>\n",
       "    <tr>\n",
       "      <th>2</th>\n",
       "      <td>liberal</td>\n",
       "      <td>McConnell Says Republicans Have Votes to Set T...</td>\n",
       "    </tr>\n",
       "  </tbody>\n",
       "</table>\n",
       "</div>"
      ],
      "text/plain": [
       "  political leaning                                            article\n",
       "0           liberal  Carrying a lethal weapon onto church property ...\n",
       "1           liberal  There is a tiny bit of good news at the tail e...\n",
       "2           liberal  McConnell Says Republicans Have Votes to Set T..."
      ]
     },
     "execution_count": 2,
     "metadata": {},
     "output_type": "execute_result"
    }
   ],
   "source": [
    "# read csv into dataframe\n",
    "articles = pandas.read_csv('articles_copy.csv',encoding = 'cp1252')\n",
    "articles.head(3)"
   ]
  },
  {
   "cell_type": "code",
   "execution_count": 3,
   "metadata": {},
   "outputs": [
    {
     "name": "stderr",
     "output_type": "stream",
     "text": [
      "[nltk_data] Downloading package stopwords to\n",
      "[nltk_data]     C:\\Users\\XJY\\AppData\\Roaming\\nltk_data...\n",
      "[nltk_data]   Package stopwords is already up-to-date!\n",
      "[nltk_data] Downloading package punkt to\n",
      "[nltk_data]     C:\\Users\\XJY\\AppData\\Roaming\\nltk_data...\n",
      "[nltk_data]   Package punkt is already up-to-date!\n",
      "[nltk_data] Downloading package wordnet to\n",
      "[nltk_data]     C:\\Users\\XJY\\AppData\\Roaming\\nltk_data...\n",
      "[nltk_data]   Package wordnet is already up-to-date!\n"
     ]
    },
    {
     "data": {
      "text/plain": [
       "True"
      ]
     },
     "execution_count": 3,
     "metadata": {},
     "output_type": "execute_result"
    }
   ],
   "source": [
    "# download nltk stuff\n",
    "import nltk\n",
    "nltk.download('stopwords')\n",
    "nltk.download('punkt')\n",
    "nltk.download('wordnet')"
   ]
  },
  {
   "cell_type": "markdown",
   "metadata": {},
   "source": [
    "## Functions to Clean Text"
   ]
  },
  {
   "cell_type": "code",
   "execution_count": 4,
   "metadata": {},
   "outputs": [],
   "source": [
    "# methods to clean up articles\n",
    "from nltk.stem import WordNetLemmatizer\n",
    "from nltk.corpus import stopwords\n",
    "from nltk import word_tokenize\n",
    "import string\n",
    "import re\n",
    "\n",
    "stop_words_ = set(stopwords.words('english'))\n",
    "wn = WordNetLemmatizer()\n",
    "def accept_words(token):\n",
    "    return token not in stop_words_ and token not in list(string.punctuation)\n",
    "def clean_txt(text):\n",
    "    clean_text = []\n",
    "    text = re.sub(\"'\", \"\",text)\n",
    "    text=re.sub(\"[\\d\\W]+\",\" \",text)  \n",
    "    clean_text = [ wn.lemmatize(word) for word in word_tokenize(text.lower()) if accept_words(word)]\n",
    "    return \" \".join(clean_text)"
   ]
  },
  {
   "cell_type": "code",
   "execution_count": 5,
   "metadata": {},
   "outputs": [
    {
     "data": {
      "text/plain": [
       "'Carrying a lethal weapon onto church property was considered \"inappropriate\" under the policies of the Church of Jesus Christ of Latter-day Saints. Now, it\\'s prohibited.\\nThe tweaked language can be seen in the church\\'s \"Handbook 2,\" which says: \"Churches are dedicated for the worship of God and as havens from the cares and concerns of the world. With the exception of current law enforcement officers, the carrying of lethal weapons on church property, concealed or otherwise, is prohibited.\"\\nThe previous rule said the carrying of lethal weapons was inappropriate.\\nLethal weapons include a number of possible items including guns, said Daniel Woodruff,a spokesman for the Church of Jesus Christ of Latter-day Saints.\\nThe handbook update took effect in the first week of August, Woodruff said, but the change will be formally communicated to local Church leaders as new meetinghouse safety guidelines in the near future.\\nThose leaders will then be responsible for sharing the guidelines with their members, he added.\\nThe change applies to the entire church, but due to a Texas law change regarding firearms in places of worship, a letter referencing the prohibition was recently sent to church leaders in Texas and shared with members, Woodruff said.\\nNext month, a new law will go into effect in Texas which will allow licensed handgun owners to legally carry their weapons in places of worship.\\nIt\\'s one of a string of new firearm laws that will take effect across Texas next month, further loosening gun restrictions in a state that already has some of the most lax weapons laws in the nation.\\n\\n\\nOne of those laws will disallow school districts from prohibiting licensed gun owners -- including school employees -- from storing a firearm or ammunition in a locked vehicle on a school parking lot, as long as they\\'re not in plain view. Another will allow foster homes to store firearms and ammunition in a safe and secure place for personal protection.\\nThe handbook tweak isn\\'t the first change the church has seen in recent years.\\nIt\\'s undergone many others, including dropping the moniker \"Mormon,\" cutting an hour from Sunday church meetings, allowing missionaries to contact their families more often, ending the church\\'s 100-year association with the Boy Scouts and dropping an anti-LGBT policy from 2015, saying children of same-sex couples can be baptized.\\n'"
      ]
     },
     "execution_count": 5,
     "metadata": {},
     "output_type": "execute_result"
    }
   ],
   "source": [
    "# example of how articles get cleaned\n",
    "articles['article'][0]"
   ]
  },
  {
   "cell_type": "code",
   "execution_count": 6,
   "metadata": {},
   "outputs": [
    {
     "data": {
      "text/plain": [
       "'carrying lethal weapon onto church property considered inappropriate policy church jesus christ latter day saint prohibited tweaked language seen church handbook say church dedicated worship god haven care concern world exception current law enforcement officer carrying lethal weapon church property concealed otherwise prohibited previous rule said carrying lethal weapon inappropriate lethal weapon include number possible item including gun said daniel woodruff spokesman church jesus christ latter day saint handbook update took effect first week august woodruff said change formally communicated local church leader new meetinghouse safety guideline near future leader responsible sharing guideline member added change applies entire church due texas law change regarding firearm place worship letter referencing prohibition recently sent church leader texas shared member woodruff said next month new law go effect texas allow licensed handgun owner legally carry weapon place worship one string new firearm law take effect across texas next month loosening gun restriction state already lax weapon law nation one law disallow school district prohibiting licensed gun owner including school employee storing firearm ammunition locked vehicle school parking lot long theyre plain view another allow foster home store firearm ammunition safe secure place personal protection handbook tweak isnt first change church seen recent year undergone many others including dropping moniker mormon cutting hour sunday church meeting allowing missionary contact family often ending church year association boy scout dropping anti lgbt policy saying child sex couple baptized'"
      ]
     },
     "execution_count": 6,
     "metadata": {},
     "output_type": "execute_result"
    }
   ],
   "source": [
    "clean_txt(articles['article'][0])"
   ]
  },
  {
   "cell_type": "markdown",
   "metadata": {},
   "source": [
    "## Functions to Generate Additional Features"
   ]
  },
  {
   "cell_type": "code",
   "execution_count": 7,
   "metadata": {},
   "outputs": [],
   "source": [
    "# additional features (subjectivity and polarity)\n",
    "# however, have not used polarity since naive bayes can't take negative values\n",
    "from textblob import TextBlob\n",
    "from sklearn.feature_extraction import DictVectorizer\n",
    "import textstat\n",
    "\n",
    "def hard_words(text):\n",
    "    total_words = len(text.split())\n",
    "    return textstat.difficult_words(text)/total_words\n",
    "def subj_txt(text):\n",
    "    return TextBlob(text).sentiment[1]\n",
    "def polarity_txt(text):\n",
    "    return (TextBlob(text).sentiment[0] + 1)/2\n",
    "def readability(text):\n",
    "    return textstat.automated_readability_index(text)\n",
    "def unique_words(text):\n",
    "    return len(set(clean_txt(text).split()))/ len(text.split())"
   ]
  },
  {
   "cell_type": "code",
   "execution_count": 8,
   "metadata": {},
   "outputs": [],
   "source": [
    "articles['subj'] = articles['article'].apply(subj_txt)\n",
    "articles['pol'] = articles['article'].apply(polarity_txt)\n",
    "articles['difficult_words'] = articles['article'].apply(hard_words)\n",
    "articles['readability'] = articles['article'].apply(readability)\n",
    "articles['unique_words'] = articles['article'].apply(unique_words)"
   ]
  },
  {
   "cell_type": "markdown",
   "metadata": {},
   "source": [
    "## Custom Pipeline For Feature Union"
   ]
  },
  {
   "cell_type": "code",
   "execution_count": 9,
   "metadata": {},
   "outputs": [],
   "source": [
    "# Custom class for feature union\n",
    "from sklearn.base import BaseEstimator, TransformerMixin\n",
    "from sklearn.pipeline import FeatureUnion\n",
    "from sklearn.feature_extraction import DictVectorizer\n",
    "class item_select(BaseEstimator, TransformerMixin):\n",
    "    def __init__(self, key):\n",
    "        self.key = key\n",
    "\n",
    "    def fit(self, x, y=None):\n",
    "        return self\n",
    "\n",
    "    def transform(self, data_dict):\n",
    "        return data_dict[self.key]\n",
    "\n",
    "\n",
    "class text_data(BaseEstimator, TransformerMixin):\n",
    "    \"\"\"Extract features from each document for DictVectorizer\"\"\"\n",
    "\n",
    "    def fit(self, x, y=None):\n",
    "        return self\n",
    "\n",
    "    def transform(self, data):\n",
    "        return [{'sub' : row['subj'],'difficult_words' : row['difficult_words'],\n",
    "                 'pol' : row['pol'],'readability' : row['readability'],\n",
    "                 'unique_words' : row['unique_words']} \\\n",
    "                for _, row in data.iterrows()]\n"
   ]
  },
  {
   "cell_type": "code",
   "execution_count": 10,
   "metadata": {},
   "outputs": [],
   "source": [
    "# custom pipeline\n",
    "from sklearn.pipeline import Pipeline\n",
    "pipeline = Pipeline([\n",
    "    ('union', FeatureUnion(\n",
    "        transformer_list=[\n",
    "\n",
    "#             Pipeline for pulling features from the text\n",
    "            ('article', Pipeline([\n",
    "                ('selector', item_select(key='article')),\n",
    "                ('tfidf', TfidfVectorizer(analyzer='word', token_pattern=r'\\w{1,}',\n",
    "                                          ngram_range=(1,3), max_features=100,\n",
    "                                         preprocessor=clean_txt)),\n",
    "            ])),\n",
    "\n",
    "#             Pipeline for pulling metadata features\n",
    "            ('stats', Pipeline([\n",
    "                ('selector', item_select(key=['subj','difficult_words','pol','readability','unique_words'])),\n",
    "                ('stats', text_data()),  # returns a list of dicts\n",
    "                ('vect', DictVectorizer()),  # list of dicts -> feature matrix\n",
    "            ])),\n",
    "\n",
    "        ],\n",
    "    ))\n",
    "])"
   ]
  },
  {
   "cell_type": "markdown",
   "metadata": {},
   "source": [
    "## Train Models"
   ]
  },
  {
   "cell_type": "code",
   "execution_count": 11,
   "metadata": {},
   "outputs": [
    {
     "name": "stdout",
     "output_type": "stream",
     "text": [
      "0           liberal\n",
      "1           liberal\n",
      "2           liberal\n",
      "3           liberal\n",
      "4           liberal\n",
      "5           liberal\n",
      "6           liberal\n",
      "7           liberal\n",
      "8           liberal\n",
      "9           liberal\n",
      "10          liberal\n",
      "11          liberal\n",
      "12          liberal\n",
      "13          liberal\n",
      "14          liberal\n",
      "15          liberal\n",
      "16          liberal\n",
      "17          liberal\n",
      "18          liberal\n",
      "19          liberal\n",
      "20          liberal\n",
      "21          liberal\n",
      "22          liberal\n",
      "23          liberal\n",
      "24          liberal\n",
      "25          liberal\n",
      "26          liberal\n",
      "27          liberal\n",
      "28          liberal\n",
      "29          liberal\n",
      "           ...     \n",
      "103    conservative\n",
      "104    conservative\n",
      "105    conservative\n",
      "106    conservative\n",
      "107    conservative\n",
      "108    conservative\n",
      "109    conservative\n",
      "110    conservative\n",
      "111    conservative\n",
      "112    conservative\n",
      "113    conservative\n",
      "114    conservative\n",
      "115    conservative\n",
      "116    conservative\n",
      "117    conservative\n",
      "118    conservative\n",
      "119    conservative\n",
      "120    conservative\n",
      "121    conservative\n",
      "122    conservative\n",
      "123    conservative\n",
      "124    conservative\n",
      "125    conservative\n",
      "126    conservative\n",
      "127    conservative\n",
      "128    conservative\n",
      "129    conservative\n",
      "130    conservative\n",
      "131    conservative\n",
      "132    conservative\n",
      "Name: political leaning, Length: 133, dtype: object\n"
     ]
    }
   ],
   "source": [
    "# features and labels\n",
    "X = articles[['article','subj','difficult_words','pol','readability','unique_words']]\n",
    "y = articles['political leaning']\n",
    "print(y)"
   ]
  },
  {
   "cell_type": "code",
   "execution_count": 12,
   "metadata": {},
   "outputs": [
    {
     "name": "stdout",
     "output_type": "stream",
     "text": [
      "[1 1 1 1 1 1 1 1 1 1 1 1 1 1 1 1 1 1 1 1 1 1 1 1 1 1 1 1 1 1 1 1 1 1 1 1 1\n",
      " 1 1 1 1 1 1 1 1 1 1 1 1 1 1 1 1 1 1 1 1 1 1 1 1 1 1 1 1 1 1 1 0 0 0 0 0 0\n",
      " 0 0 0 0 0 0 0 0 0 0 0 0 0 0 0 0 0 0 0 0 0 0 0 0 0 0 0 0 0 0 0 0 0 0 0 0 0\n",
      " 0 0 0 0 0 0 0 0 0 0 0 0 0 0 0 0 0 0 0 0 0 0]\n"
     ]
    }
   ],
   "source": [
    "# split training and testing samples\n",
    "seed = 12\n",
    "encoder = preprocessing.LabelEncoder()\n",
    "y = encoder.fit_transform(y)\n",
    "print(y)\n",
    "x_train, x_test, y_train, y_test = model_selection.train_test_split(X,y,test_size = 0.2, random_state = seed)"
   ]
  },
  {
   "cell_type": "code",
   "execution_count": 13,
   "metadata": {},
   "outputs": [
    {
     "data": {
      "text/plain": [
       "Pipeline(memory=None,\n",
       "         steps=[('union',\n",
       "                 FeatureUnion(n_jobs=None,\n",
       "                              transformer_list=[('article',\n",
       "                                                 Pipeline(memory=None,\n",
       "                                                          steps=[('selector',\n",
       "                                                                  item_select(key='article')),\n",
       "                                                                 ('tfidf',\n",
       "                                                                  TfidfVectorizer(analyzer='word',\n",
       "                                                                                  binary=False,\n",
       "                                                                                  decode_error='strict',\n",
       "                                                                                  dtype=<class 'numpy.float64'>,\n",
       "                                                                                  encoding='utf-8',\n",
       "                                                                                  input='content',\n",
       "                                                                                  lowercase=True,\n",
       "                                                                                  max_df=1.0,\n",
       "                                                                                  max_features=100,\n",
       "                                                                                  min_df=1,\n",
       "                                                                                  n...\n",
       "                                                                                  vocabulary=None))],\n",
       "                                                          verbose=False)),\n",
       "                                                ('stats',\n",
       "                                                 Pipeline(memory=None,\n",
       "                                                          steps=[('selector',\n",
       "                                                                  item_select(key=['subj',\n",
       "                                                                                   'difficult_words',\n",
       "                                                                                   'pol',\n",
       "                                                                                   'readability',\n",
       "                                                                                   'unique_words'])),\n",
       "                                                                 ('stats',\n",
       "                                                                  text_data()),\n",
       "                                                                 ('vect',\n",
       "                                                                  DictVectorizer(dtype=<class 'numpy.float64'>,\n",
       "                                                                                 separator='=',\n",
       "                                                                                 sort=True,\n",
       "                                                                                 sparse=True))],\n",
       "                                                          verbose=False))],\n",
       "                              transformer_weights=None, verbose=False))],\n",
       "         verbose=False)"
      ]
     },
     "execution_count": 13,
     "metadata": {},
     "output_type": "execute_result"
    }
   ],
   "source": [
    "# fit pipeline\n",
    "pipeline.fit(x_train)"
   ]
  },
  {
   "cell_type": "code",
   "execution_count": 14,
   "metadata": {},
   "outputs": [],
   "source": [
    "train_vec = pipeline.transform(x_train)\n",
    "test_vec = pipeline.transform(x_test)"
   ]
  },
  {
   "cell_type": "code",
   "execution_count": 15,
   "metadata": {},
   "outputs": [],
   "source": [
    "# models to test\n",
    "from sklearn.svm import LinearSVC\n",
    "from sklearn.linear_model import LogisticRegression\n",
    "from sklearn.ensemble import RandomForestClassifier\n",
    "\n",
    "clf_sv = LinearSVC(C=1, class_weight='balanced', multi_class='ovr', random_state=40, max_iter=10000)\n",
    "clf_nb = naive_bayes.MultinomialNB()\n",
    "clf_lr = LogisticRegression()\n",
    "clf_rf = RandomForestClassifier(n_estimators = 800)"
   ]
  },
  {
   "cell_type": "markdown",
   "metadata": {},
   "source": [
    "## Test Models for Accuracy"
   ]
  },
  {
   "cell_type": "code",
   "execution_count": 16,
   "metadata": {},
   "outputs": [
    {
     "name": "stdout",
     "output_type": "stream",
     "text": [
      "SVC\n",
      "[0.8        0.77777778 0.75      ]\n",
      "Mean score: 0.776 (+/-0.020)\n",
      "---------------------------\n",
      "NB\n",
      "[0.7        0.66666667 0.75      ]\n",
      "Mean score: 0.706 (+/-0.034)\n",
      "---------------------------\n",
      "LR\n",
      "[0.7        0.66666667 0.75      ]\n",
      "Mean score: 0.706 (+/-0.034)\n",
      "---------------------------\n"
     ]
    },
    {
     "name": "stderr",
     "output_type": "stream",
     "text": [
      "C:\\Users\\XJY\\Anaconda3\\lib\\site-packages\\sklearn\\linear_model\\logistic.py:432: FutureWarning: Default solver will be changed to 'lbfgs' in 0.22. Specify a solver to silence this warning.\n",
      "  FutureWarning)\n"
     ]
    },
    {
     "name": "stdout",
     "output_type": "stream",
     "text": [
      "RF\n",
      "[0.7        0.66666667 0.75      ]\n",
      "Mean score: 0.706 (+/-0.034)\n",
      "---------------------------\n"
     ]
    }
   ],
   "source": [
    "# cross val score of models\n",
    "from sklearn.model_selection import cross_val_score\n",
    "clfs = {'SVC' : clf_sv, 'NB' : clf_nb, 'LR' : clf_lr, 'RF' : clf_rf}\n",
    "cv = 3\n",
    "for name, clf in clfs.items():\n",
    "    scores = cross_val_score(clf,test_vec,y_test,cv = cv, scoring = \"accuracy\")\n",
    "    print(name)\n",
    "    print(scores)\n",
    "    print((\"Mean score: {0:.3f} (+/-{1:.3f})\").format(\n",
    "            numpy.mean(scores),numpy.std(scores)))\n",
    "    print('---------------------------')"
   ]
  },
  {
   "cell_type": "code",
   "execution_count": 17,
   "metadata": {},
   "outputs": [
    {
     "data": {
      "text/html": [
       "<div>\n",
       "<style scoped>\n",
       "    .dataframe tbody tr th:only-of-type {\n",
       "        vertical-align: middle;\n",
       "    }\n",
       "\n",
       "    .dataframe tbody tr th {\n",
       "        vertical-align: top;\n",
       "    }\n",
       "\n",
       "    .dataframe thead th {\n",
       "        text-align: right;\n",
       "    }\n",
       "</style>\n",
       "<table border=\"1\" class=\"dataframe\">\n",
       "  <thead>\n",
       "    <tr style=\"text-align: right;\">\n",
       "      <th></th>\n",
       "      <th>count</th>\n",
       "      <th>mean</th>\n",
       "      <th>std</th>\n",
       "      <th>min</th>\n",
       "      <th>25%</th>\n",
       "      <th>50%</th>\n",
       "      <th>75%</th>\n",
       "      <th>max</th>\n",
       "    </tr>\n",
       "    <tr>\n",
       "      <th>political leaning</th>\n",
       "      <th></th>\n",
       "      <th></th>\n",
       "      <th></th>\n",
       "      <th></th>\n",
       "      <th></th>\n",
       "      <th></th>\n",
       "      <th></th>\n",
       "      <th></th>\n",
       "    </tr>\n",
       "  </thead>\n",
       "  <tbody>\n",
       "    <tr>\n",
       "      <th>conservative</th>\n",
       "      <td>65.0</td>\n",
       "      <td>0.383572</td>\n",
       "      <td>0.056630</td>\n",
       "      <td>0.229767</td>\n",
       "      <td>0.349231</td>\n",
       "      <td>0.384884</td>\n",
       "      <td>0.409615</td>\n",
       "      <td>0.525292</td>\n",
       "    </tr>\n",
       "    <tr>\n",
       "      <th>liberal</th>\n",
       "      <td>68.0</td>\n",
       "      <td>0.379702</td>\n",
       "      <td>0.091994</td>\n",
       "      <td>0.271176</td>\n",
       "      <td>0.336601</td>\n",
       "      <td>0.362013</td>\n",
       "      <td>0.399954</td>\n",
       "      <td>1.000000</td>\n",
       "    </tr>\n",
       "  </tbody>\n",
       "</table>\n",
       "</div>"
      ],
      "text/plain": [
       "                   count      mean       std       min       25%       50%  \\\n",
       "political leaning                                                            \n",
       "conservative        65.0  0.383572  0.056630  0.229767  0.349231  0.384884   \n",
       "liberal             68.0  0.379702  0.091994  0.271176  0.336601  0.362013   \n",
       "\n",
       "                        75%       max  \n",
       "political leaning                      \n",
       "conservative       0.409615  0.525292  \n",
       "liberal            0.399954  1.000000  "
      ]
     },
     "execution_count": 17,
     "metadata": {},
     "output_type": "execute_result"
    }
   ],
   "source": [
    "articles.groupby('political leaning')['unique_words'].describe()"
   ]
  },
  {
   "cell_type": "code",
   "execution_count": 18,
   "metadata": {},
   "outputs": [
    {
     "data": {
      "text/html": [
       "<div>\n",
       "<style scoped>\n",
       "    .dataframe tbody tr th:only-of-type {\n",
       "        vertical-align: middle;\n",
       "    }\n",
       "\n",
       "    .dataframe tbody tr th {\n",
       "        vertical-align: top;\n",
       "    }\n",
       "\n",
       "    .dataframe thead th {\n",
       "        text-align: right;\n",
       "    }\n",
       "</style>\n",
       "<table border=\"1\" class=\"dataframe\">\n",
       "  <thead>\n",
       "    <tr style=\"text-align: right;\">\n",
       "      <th></th>\n",
       "      <th>count</th>\n",
       "      <th>mean</th>\n",
       "      <th>std</th>\n",
       "      <th>min</th>\n",
       "      <th>25%</th>\n",
       "      <th>50%</th>\n",
       "      <th>75%</th>\n",
       "      <th>max</th>\n",
       "    </tr>\n",
       "    <tr>\n",
       "      <th>political leaning</th>\n",
       "      <th></th>\n",
       "      <th></th>\n",
       "      <th></th>\n",
       "      <th></th>\n",
       "      <th></th>\n",
       "      <th></th>\n",
       "      <th></th>\n",
       "      <th></th>\n",
       "    </tr>\n",
       "  </thead>\n",
       "  <tbody>\n",
       "    <tr>\n",
       "      <th>conservative</th>\n",
       "      <td>65.0</td>\n",
       "      <td>0.196970</td>\n",
       "      <td>0.033931</td>\n",
       "      <td>0.068493</td>\n",
       "      <td>0.183976</td>\n",
       "      <td>0.204118</td>\n",
       "      <td>0.211628</td>\n",
       "      <td>0.280769</td>\n",
       "    </tr>\n",
       "    <tr>\n",
       "      <th>liberal</th>\n",
       "      <td>68.0</td>\n",
       "      <td>0.203127</td>\n",
       "      <td>0.101307</td>\n",
       "      <td>0.136855</td>\n",
       "      <td>0.174840</td>\n",
       "      <td>0.192993</td>\n",
       "      <td>0.209151</td>\n",
       "      <td>1.000000</td>\n",
       "    </tr>\n",
       "  </tbody>\n",
       "</table>\n",
       "</div>"
      ],
      "text/plain": [
       "                   count      mean       std       min       25%       50%  \\\n",
       "political leaning                                                            \n",
       "conservative        65.0  0.196970  0.033931  0.068493  0.183976  0.204118   \n",
       "liberal             68.0  0.203127  0.101307  0.136855  0.174840  0.192993   \n",
       "\n",
       "                        75%       max  \n",
       "political leaning                      \n",
       "conservative       0.211628  0.280769  \n",
       "liberal            0.209151  1.000000  "
      ]
     },
     "execution_count": 18,
     "metadata": {},
     "output_type": "execute_result"
    }
   ],
   "source": [
    "articles.groupby('political leaning')['difficult_words'].describe()"
   ]
  },
  {
   "cell_type": "code",
   "execution_count": 19,
   "metadata": {},
   "outputs": [
    {
     "data": {
      "text/html": [
       "<div>\n",
       "<style scoped>\n",
       "    .dataframe tbody tr th:only-of-type {\n",
       "        vertical-align: middle;\n",
       "    }\n",
       "\n",
       "    .dataframe tbody tr th {\n",
       "        vertical-align: top;\n",
       "    }\n",
       "\n",
       "    .dataframe thead th {\n",
       "        text-align: right;\n",
       "    }\n",
       "</style>\n",
       "<table border=\"1\" class=\"dataframe\">\n",
       "  <thead>\n",
       "    <tr style=\"text-align: right;\">\n",
       "      <th></th>\n",
       "      <th>count</th>\n",
       "      <th>mean</th>\n",
       "      <th>std</th>\n",
       "      <th>min</th>\n",
       "      <th>25%</th>\n",
       "      <th>50%</th>\n",
       "      <th>75%</th>\n",
       "      <th>max</th>\n",
       "    </tr>\n",
       "    <tr>\n",
       "      <th>political leaning</th>\n",
       "      <th></th>\n",
       "      <th></th>\n",
       "      <th></th>\n",
       "      <th></th>\n",
       "      <th></th>\n",
       "      <th></th>\n",
       "      <th></th>\n",
       "      <th></th>\n",
       "    </tr>\n",
       "  </thead>\n",
       "  <tbody>\n",
       "    <tr>\n",
       "      <th>conservative</th>\n",
       "      <td>65.0</td>\n",
       "      <td>0.537479</td>\n",
       "      <td>0.026123</td>\n",
       "      <td>0.470833</td>\n",
       "      <td>0.520218</td>\n",
       "      <td>0.541020</td>\n",
       "      <td>0.554459</td>\n",
       "      <td>0.618867</td>\n",
       "    </tr>\n",
       "    <tr>\n",
       "      <th>liberal</th>\n",
       "      <td>68.0</td>\n",
       "      <td>0.537054</td>\n",
       "      <td>0.028515</td>\n",
       "      <td>0.470833</td>\n",
       "      <td>0.516725</td>\n",
       "      <td>0.540621</td>\n",
       "      <td>0.554742</td>\n",
       "      <td>0.618867</td>\n",
       "    </tr>\n",
       "  </tbody>\n",
       "</table>\n",
       "</div>"
      ],
      "text/plain": [
       "                   count      mean       std       min       25%       50%  \\\n",
       "political leaning                                                            \n",
       "conservative        65.0  0.537479  0.026123  0.470833  0.520218  0.541020   \n",
       "liberal             68.0  0.537054  0.028515  0.470833  0.516725  0.540621   \n",
       "\n",
       "                        75%       max  \n",
       "political leaning                      \n",
       "conservative       0.554459  0.618867  \n",
       "liberal            0.554742  0.618867  "
      ]
     },
     "execution_count": 19,
     "metadata": {},
     "output_type": "execute_result"
    }
   ],
   "source": [
    "articles.groupby('political leaning')['pol'].describe()"
   ]
  },
  {
   "cell_type": "code",
   "execution_count": 20,
   "metadata": {},
   "outputs": [
    {
     "data": {
      "text/html": [
       "<div>\n",
       "<style scoped>\n",
       "    .dataframe tbody tr th:only-of-type {\n",
       "        vertical-align: middle;\n",
       "    }\n",
       "\n",
       "    .dataframe tbody tr th {\n",
       "        vertical-align: top;\n",
       "    }\n",
       "\n",
       "    .dataframe thead th {\n",
       "        text-align: right;\n",
       "    }\n",
       "</style>\n",
       "<table border=\"1\" class=\"dataframe\">\n",
       "  <thead>\n",
       "    <tr style=\"text-align: right;\">\n",
       "      <th></th>\n",
       "      <th>count</th>\n",
       "      <th>mean</th>\n",
       "      <th>std</th>\n",
       "      <th>min</th>\n",
       "      <th>25%</th>\n",
       "      <th>50%</th>\n",
       "      <th>75%</th>\n",
       "      <th>max</th>\n",
       "    </tr>\n",
       "    <tr>\n",
       "      <th>political leaning</th>\n",
       "      <th></th>\n",
       "      <th></th>\n",
       "      <th></th>\n",
       "      <th></th>\n",
       "      <th></th>\n",
       "      <th></th>\n",
       "      <th></th>\n",
       "      <th></th>\n",
       "    </tr>\n",
       "  </thead>\n",
       "  <tbody>\n",
       "    <tr>\n",
       "      <th>conservative</th>\n",
       "      <td>65.0</td>\n",
       "      <td>16.158462</td>\n",
       "      <td>4.352330</td>\n",
       "      <td>6.8</td>\n",
       "      <td>13.7</td>\n",
       "      <td>15.7</td>\n",
       "      <td>17.400</td>\n",
       "      <td>28.3</td>\n",
       "    </tr>\n",
       "    <tr>\n",
       "      <th>liberal</th>\n",
       "      <td>68.0</td>\n",
       "      <td>16.300000</td>\n",
       "      <td>3.722341</td>\n",
       "      <td>11.3</td>\n",
       "      <td>14.1</td>\n",
       "      <td>15.6</td>\n",
       "      <td>17.225</td>\n",
       "      <td>28.3</td>\n",
       "    </tr>\n",
       "  </tbody>\n",
       "</table>\n",
       "</div>"
      ],
      "text/plain": [
       "                   count       mean       std   min   25%   50%     75%   max\n",
       "political leaning                                                            \n",
       "conservative        65.0  16.158462  4.352330   6.8  13.7  15.7  17.400  28.3\n",
       "liberal             68.0  16.300000  3.722341  11.3  14.1  15.6  17.225  28.3"
      ]
     },
     "execution_count": 20,
     "metadata": {},
     "output_type": "execute_result"
    }
   ],
   "source": [
    "articles.groupby('political leaning')['readability'].describe()"
   ]
  },
  {
   "cell_type": "code",
   "execution_count": 21,
   "metadata": {},
   "outputs": [
    {
     "data": {
      "text/html": [
       "<div>\n",
       "<style scoped>\n",
       "    .dataframe tbody tr th:only-of-type {\n",
       "        vertical-align: middle;\n",
       "    }\n",
       "\n",
       "    .dataframe tbody tr th {\n",
       "        vertical-align: top;\n",
       "    }\n",
       "\n",
       "    .dataframe thead th {\n",
       "        text-align: right;\n",
       "    }\n",
       "</style>\n",
       "<table border=\"1\" class=\"dataframe\">\n",
       "  <thead>\n",
       "    <tr style=\"text-align: right;\">\n",
       "      <th></th>\n",
       "      <th>count</th>\n",
       "      <th>mean</th>\n",
       "      <th>std</th>\n",
       "      <th>min</th>\n",
       "      <th>25%</th>\n",
       "      <th>50%</th>\n",
       "      <th>75%</th>\n",
       "      <th>max</th>\n",
       "    </tr>\n",
       "    <tr>\n",
       "      <th>political leaning</th>\n",
       "      <th></th>\n",
       "      <th></th>\n",
       "      <th></th>\n",
       "      <th></th>\n",
       "      <th></th>\n",
       "      <th></th>\n",
       "      <th></th>\n",
       "      <th></th>\n",
       "    </tr>\n",
       "  </thead>\n",
       "  <tbody>\n",
       "    <tr>\n",
       "      <th>conservative</th>\n",
       "      <td>65.0</td>\n",
       "      <td>0.411786</td>\n",
       "      <td>0.072663</td>\n",
       "      <td>0.174653</td>\n",
       "      <td>0.36949</td>\n",
       "      <td>0.416766</td>\n",
       "      <td>0.456375</td>\n",
       "      <td>0.583675</td>\n",
       "    </tr>\n",
       "    <tr>\n",
       "      <th>liberal</th>\n",
       "      <td>68.0</td>\n",
       "      <td>0.398969</td>\n",
       "      <td>0.083444</td>\n",
       "      <td>0.000000</td>\n",
       "      <td>0.35828</td>\n",
       "      <td>0.411783</td>\n",
       "      <td>0.445913</td>\n",
       "      <td>0.531565</td>\n",
       "    </tr>\n",
       "  </tbody>\n",
       "</table>\n",
       "</div>"
      ],
      "text/plain": [
       "                   count      mean       std       min      25%       50%  \\\n",
       "political leaning                                                           \n",
       "conservative        65.0  0.411786  0.072663  0.174653  0.36949  0.416766   \n",
       "liberal             68.0  0.398969  0.083444  0.000000  0.35828  0.411783   \n",
       "\n",
       "                        75%       max  \n",
       "political leaning                      \n",
       "conservative       0.456375  0.583675  \n",
       "liberal            0.445913  0.531565  "
      ]
     },
     "execution_count": 21,
     "metadata": {},
     "output_type": "execute_result"
    }
   ],
   "source": [
    "articles.groupby('political leaning')['subj'].describe()"
   ]
  },
  {
   "cell_type": "markdown",
   "metadata": {},
   "source": [
    "## Test Model Without Additional Features"
   ]
  },
  {
   "cell_type": "code",
   "execution_count": 22,
   "metadata": {},
   "outputs": [],
   "source": [
    "# Testing model with just tfidf\n",
    "X = articles['article']\n",
    "y = articles['political leaning']\n",
    "y = encoder.fit_transform(y)\n",
    "x_train, x_test, y_train, y_test = model_selection.train_test_split(X,y,test_size = 0.2, random_state = seed)\n",
    "tfidf_vec = TfidfVectorizer(analyzer='word', token_pattern=r'\\w{1,}',\n",
    "                                          ngram_range=(1,3), max_features=100,\n",
    "                                         preprocessor=clean_txt)\n",
    "tfidf_vec.fit(x_train)\n",
    "train_x = tfidf_vec.transform(x_train)\n",
    "test_x = tfidf_vec.transform(x_test)"
   ]
  },
  {
   "cell_type": "code",
   "execution_count": 23,
   "metadata": {},
   "outputs": [
    {
     "name": "stdout",
     "output_type": "stream",
     "text": [
      "SVC\n",
      "[0.7        0.66666667 0.75      ]\n",
      "Mean score: 0.706 (+/-0.034)\n",
      "NB\n",
      "[0.7        0.66666667 0.75      ]\n",
      "Mean score: 0.706 (+/-0.034)\n",
      "LR\n",
      "[0.7        0.66666667 0.75      ]\n",
      "Mean score: 0.706 (+/-0.034)\n"
     ]
    },
    {
     "name": "stderr",
     "output_type": "stream",
     "text": [
      "C:\\Users\\XJY\\Anaconda3\\lib\\site-packages\\sklearn\\linear_model\\logistic.py:432: FutureWarning: Default solver will be changed to 'lbfgs' in 0.22. Specify a solver to silence this warning.\n",
      "  FutureWarning)\n"
     ]
    },
    {
     "name": "stdout",
     "output_type": "stream",
     "text": [
      "RF\n",
      "[0.7        0.77777778 0.875     ]\n",
      "Mean score: 0.784 (+/-0.072)\n"
     ]
    }
   ],
   "source": [
    "for name, clf in clfs.items():\n",
    "    scores = cross_val_score(clf,test_x,y_test,cv = cv, scoring = \"accuracy\")\n",
    "    print(name)\n",
    "    print(scores)\n",
    "    print((\"Mean score: {0:.3f} (+/-{1:.3f})\").format(\n",
    "            numpy.mean(scores),numpy.std(scores)))"
   ]
  },
  {
   "cell_type": "markdown",
   "metadata": {},
   "source": [
    "## Test Models on a Character Basis (n-gram)"
   ]
  },
  {
   "cell_type": "code",
   "execution_count": 24,
   "metadata": {},
   "outputs": [],
   "source": [
    "tfidf_vect_ngram_chars = TfidfVectorizer(analyzer='char', token_pattern=r'\\w{1,}', ngram_range=(1,3), max_features=100)\n",
    "tfidf_vect_ngram_chars.fit(x_train)\n",
    "train_x = tfidf_vect_ngram_chars.transform(x_train)\n",
    "test_x = tfidf_vect_ngram_chars.transform(x_test)"
   ]
  },
  {
   "cell_type": "code",
   "execution_count": 25,
   "metadata": {},
   "outputs": [
    {
     "name": "stdout",
     "output_type": "stream",
     "text": [
      "SVC\n",
      "[0.6  1.   0.75]\n",
      "Mean score: 0.783 (+/-0.165)\n",
      "NB\n",
      "[0.7        0.66666667 0.75      ]\n",
      "Mean score: 0.706 (+/-0.034)\n",
      "LR\n",
      "[0.7        0.66666667 0.75      ]\n",
      "Mean score: 0.706 (+/-0.034)\n"
     ]
    },
    {
     "name": "stderr",
     "output_type": "stream",
     "text": [
      "C:\\Users\\XJY\\Anaconda3\\lib\\site-packages\\sklearn\\linear_model\\logistic.py:432: FutureWarning: Default solver will be changed to 'lbfgs' in 0.22. Specify a solver to silence this warning.\n",
      "  FutureWarning)\n"
     ]
    },
    {
     "name": "stdout",
     "output_type": "stream",
     "text": [
      "RF\n",
      "[0.7        0.66666667 0.875     ]\n",
      "Mean score: 0.747 (+/-0.091)\n"
     ]
    }
   ],
   "source": [
    "for name, clf in clfs.items():\n",
    "    scores = cross_val_score(clf,test_x,y_test,cv = cv, scoring = \"accuracy\")\n",
    "    print(name)\n",
    "    print(scores)\n",
    "    print((\"Mean score: {0:.3f} (+/-{1:.3f})\").format(\n",
    "            numpy.mean(scores),numpy.std(scores)))"
   ]
  },
  {
   "cell_type": "markdown",
   "metadata": {},
   "source": [
    "## Test Model With Count Vectorizer"
   ]
  },
  {
   "cell_type": "code",
   "execution_count": 26,
   "metadata": {},
   "outputs": [],
   "source": [
    "count_vect = CountVectorizer(analyzer='word', token_pattern=r'\\w{1,}', max_features=100)\n",
    "count_vect.fit(x_train)\n",
    "train_x = count_vect.transform(x_train)\n",
    "test_x = count_vect.transform(x_test)"
   ]
  },
  {
   "cell_type": "code",
   "execution_count": 27,
   "metadata": {},
   "outputs": [
    {
     "name": "stdout",
     "output_type": "stream",
     "text": [
      "SVC\n",
      "[0.6        0.77777778 0.5       ]\n",
      "Mean score: 0.626 (+/-0.115)\n",
      "NB\n",
      "[0.5        0.88888889 0.875     ]\n",
      "Mean score: 0.755 (+/-0.180)\n",
      "LR\n",
      "[0.7        0.77777778 0.5       ]\n",
      "Mean score: 0.659 (+/-0.117)\n"
     ]
    },
    {
     "name": "stderr",
     "output_type": "stream",
     "text": [
      "C:\\Users\\XJY\\Anaconda3\\lib\\site-packages\\sklearn\\linear_model\\logistic.py:432: FutureWarning: Default solver will be changed to 'lbfgs' in 0.22. Specify a solver to silence this warning.\n",
      "  FutureWarning)\n"
     ]
    },
    {
     "name": "stdout",
     "output_type": "stream",
     "text": [
      "RF\n",
      "[0.7        0.77777778 0.75      ]\n",
      "Mean score: 0.743 (+/-0.032)\n"
     ]
    }
   ],
   "source": [
    "for name, clf in clfs.items():\n",
    "    scores = cross_val_score(clf,test_x,y_test,cv = cv, scoring = \"accuracy\")\n",
    "    print(name)\n",
    "    print(scores)\n",
    "    print((\"Mean score: {0:.3f} (+/-{1:.3f})\").format(\n",
    "            numpy.mean(scores),numpy.std(scores)))"
   ]
  },
  {
   "cell_type": "markdown",
   "metadata": {},
   "source": [
    "## Function to Predict New Text Based on Just TF-IDF"
   ]
  },
  {
   "cell_type": "code",
   "execution_count": 28,
   "metadata": {},
   "outputs": [],
   "source": [
    "tfidf_vec = TfidfVectorizer(analyzer='word', token_pattern=r'\\w{1,}',\n",
    "                                          ngram_range=(1,3), max_features=100,\n",
    "                                         preprocessor=clean_txt)\n",
    "encoder = preprocessing.LabelEncoder()\n",
    "X = articles['article']\n",
    "y = articles['political leaning']\n",
    "tfidf_vec.fit(X)\n",
    "X = tfidf_vec.transform(X)\n",
    "\n",
    "y = encoder.fit_transform(y)\n",
    "clf_nb = naive_bayes.MultinomialNB()\n",
    "clf_nb.fit(X,y)\n",
    "def predictor(text):\n",
    "    x = tfidf_vec.transform(text)\n",
    "    result = clf_nb.predict(x)\n",
    "    return encoder.inverse_transform([result])"
   ]
  },
  {
   "cell_type": "code",
   "execution_count": 29,
   "metadata": {},
   "outputs": [
    {
     "name": "stdout",
     "output_type": "stream",
     "text": [
      "['liberal']\n"
     ]
    },
    {
     "name": "stderr",
     "output_type": "stream",
     "text": [
      "C:\\Users\\XJY\\Anaconda3\\lib\\site-packages\\sklearn\\preprocessing\\label.py:273: DataConversionWarning: A column-vector y was passed when a 1d array was expected. Please change the shape of y to (n_samples, ), for example using ravel().\n",
      "  y = column_or_1d(y, warn=True)\n"
     ]
    }
   ],
   "source": [
    "text = ['I am a liberal.']\n",
    "print(predictor(text))"
   ]
  },
  {
   "cell_type": "code",
   "execution_count": null,
   "metadata": {},
   "outputs": [],
   "source": []
  },
  {
   "cell_type": "code",
   "execution_count": null,
   "metadata": {},
   "outputs": [],
   "source": []
  }
 ],
 "metadata": {
  "kernelspec": {
   "display_name": "Python 3",
   "language": "python",
   "name": "python3"
  },
  "language_info": {
   "codemirror_mode": {
    "name": "ipython",
    "version": 3
   },
   "file_extension": ".py",
   "mimetype": "text/x-python",
   "name": "python",
   "nbconvert_exporter": "python",
   "pygments_lexer": "ipython3",
   "version": "3.7.3"
  }
 },
 "nbformat": 4,
 "nbformat_minor": 2
}
